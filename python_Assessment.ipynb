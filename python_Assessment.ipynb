{
  "nbformat": 4,
  "nbformat_minor": 0,
  "metadata": {
    "colab": {
      "provenance": []
    },
    "kernelspec": {
      "name": "python3",
      "display_name": "Python 3"
    },
    "language_info": {
      "name": "python"
    }
  },
  "cells": [
    {
      "cell_type": "code",
      "source": [
        " '''list1=[1,2,3,4]\n",
        "       expected output is 1,4,9,16'''"
      ],
      "metadata": {
        "id": "ZlDP6mxq7ixT"
      },
      "execution_count": null,
      "outputs": []
    },
    {
      "cell_type": "code",
      "source": [
        "list1=[1,2,3,4]\n",
        "output= []\n",
        "for i in list1:\n",
        "  square = i**2\n",
        "  output.append(square)\n",
        "print(output)\n"
      ],
      "metadata": {
        "id": "ozzL-_S8CfnM",
        "colab": {
          "base_uri": "https://localhost:8080/"
        },
        "outputId": "3d735837-7392-4034-d999-ce9c53b73785"
      },
      "execution_count": 1,
      "outputs": [
        {
          "output_type": "stream",
          "name": "stdout",
          "text": [
            "[1, 4, 9, 16]\n"
          ]
        }
      ]
    }
  ]
}