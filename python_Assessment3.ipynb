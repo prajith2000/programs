{
  "nbformat": 4,
  "nbformat_minor": 0,
  "metadata": {
    "colab": {
      "provenance": []
    },
    "kernelspec": {
      "name": "python3",
      "display_name": "Python 3"
    },
    "language_info": {
      "name": "python"
    }
  },
  "cells": [
    {
      "cell_type": "code",
      "execution_count": null,
      "metadata": {
        "id": "sNXu7lD0m1u-"
      },
      "outputs": [],
      "source": [
        "my_list = [\"apple\", \"banana\", \"cherry\", \"date\"] #Q convert list into dictionary using enumerate() function\n",
        "\n",
        "my_dict = {index: value for index, value in enumerate(my_list)}\n",
        "\n",
        "print(my_dict)\n"
      ]
    }
  ]
}