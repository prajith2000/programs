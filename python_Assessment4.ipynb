{
  "nbformat": 4,
  "nbformat_minor": 0,
  "metadata": {
    "colab": {
      "provenance": []
    },
    "kernelspec": {
      "name": "python3",
      "display_name": "Python 3"
    },
    "language_info": {
      "name": "python"
    }
  },
  "cells": [
    {
      "cell_type": "code",
      "execution_count": 1,
      "metadata": {
        "colab": {
          "base_uri": "https://localhost:8080/"
        },
        "id": "LJASr7j3ev-4",
        "outputId": "2f838972-f360-40e4-ffc1-8dc0b6d0c64b"
      },
      "outputs": [
        {
          "output_type": "stream",
          "name": "stdout",
          "text": [
            "[2, 4]\n"
          ]
        }
      ],
      "source": [
        "#using lambda function to filter even numbers from a list expected output is [2,4]\n",
        "my_list=[1,2,3,4,5]\n",
        "filtered_list=list(filter(lambda x:x%2==0,my_list))\n",
        "print(filtered_list)"
      ]
    }
  ]
}