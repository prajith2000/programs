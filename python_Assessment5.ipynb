{
  "nbformat": 4,
  "nbformat_minor": 0,
  "metadata": {
    "colab": {
      "provenance": []
    },
    "kernelspec": {
      "name": "python3",
      "display_name": "Python 3"
    },
    "language_info": {
      "name": "python"
    }
  },
  "cells": [
    {
      "cell_type": "code",
      "execution_count": null,
      "metadata": {
        "id": "yoMz5v8zu2ps",
        "colab": {
          "base_uri": "https://localhost:8080/"
        },
        "outputId": "185ea416-4587-4215-c103-1c42f56c39dc"
      },
      "outputs": [
        {
          "output_type": "stream",
          "name": "stdout",
          "text": [
            "Data cleaning and writing to the file completed\n"
          ]
        }
      ],
      "source": [
        "#define a function to clean the text\n",
        "import string\n",
        "\n",
        "def clean_text(text):\n",
        "  #remove punctuation and convert to lowecase\n",
        "  text=text.translate(str.maketrans('','',string.punctuation))\n",
        "  text=text.lower()\n",
        "  return text\n",
        "#input and output file paths\n",
        "input_file='data.txt.txt' #Replace with the actual file name\n",
        "output_file='cleaned_data.txt.txt'\n",
        "#read the input text file\n",
        "with open(input_file,'r') as file:\n",
        "  text_data = file.read()\n",
        "#clean the text\n",
        "cleaned_data=clean_text(text_data)\n",
        "#write the cleaned data to a new file\n",
        "with open(output_file,'w') as file:\n",
        "  file.write(cleaned_data)\n",
        "print(\"Data cleaning and writing to the file completed\")"
      ]
    }
  ]
}